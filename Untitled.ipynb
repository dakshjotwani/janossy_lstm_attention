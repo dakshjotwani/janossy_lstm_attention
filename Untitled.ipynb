{
 "cells": [
  {
   "cell_type": "code",
   "execution_count": 1,
   "metadata": {},
   "outputs": [],
   "source": []
  },
  {
   "cell_type": "code",
   "execution_count": 2,
   "metadata": {},
   "outputs": [],
   "source": []
  },
  {
   "cell_type": "markdown",
   "metadata": {},
   "source": [
    "# RUN CODE"
   ]
  },
  {
   "cell_type": "code",
   "execution_count": 1,
   "metadata": {},
   "outputs": [
    {
     "name": "stdout",
     "output_type": "stream",
     "text": [
      "Namespace(batch_size=16, cuda=True, d_inner_hid=2048, d_k=64, d_model=512, d_v=64, d_word_vec=512, data_pkl='m30k_deen_shr.pkl', dropout=0.1, embs_share_weight=True, epoch=2, label_smoothing=True, log=None, max_token_seq_len=100, n_head=8, n_layers=6, n_warmup_steps=128000, no_cuda=False, proj_share_weight=True, save_mode='best', save_model='trained', src_pad_idx=1, src_vocab_size=9521, train_path=None, trg_pad_idx=1, trg_vocab_size=9521, val_path=None)\n"
     ]
    },
    {
     "name": "stderr",
     "output_type": "stream",
     "text": [
      "  - (Training)   :   0%|                                                                      | 0/1813 [00:00<?, ?it/s]"
     ]
    },
    {
     "name": "stdout",
     "output_type": "stream",
     "text": [
      "[ Epoch 0 ]\n",
      "scaleddpa torch.Size([16, 8, 29, 64]) torch.Size([16, 8, 29, 64]) torch.Size([16, 8, 29, 64])\n",
      "scaleddpa out: torch.Size([16, 8, 29, 64]) torch.Size([16, 8, 29, 29])\n",
      "scaleddpa torch.Size([16, 8, 29, 64]) torch.Size([16, 8, 29, 64]) torch.Size([16, 8, 29, 64])\n",
      "scaleddpa out: torch.Size([16, 8, 29, 64]) torch.Size([16, 8, 29, 29])\n",
      "scaleddpa torch.Size([16, 8, 29, 64]) torch.Size([16, 8, 29, 64]) torch.Size([16, 8, 29, 64])\n",
      "scaleddpa out: torch.Size([16, 8, 29, 64]) torch.Size([16, 8, 29, 29])\n",
      "scaleddpa torch.Size([16, 8, 29, 64]) torch.Size([16, 8, 29, 64]) torch.Size([16, 8, 29, 64])\n",
      "scaleddpa out: torch.Size([16, 8, 29, 64]) torch.Size([16, 8, 29, 29])\n",
      "scaleddpa torch.Size([16, 8, 29, 64]) torch.Size([16, 8, 29, 64]) torch.Size([16, 8, 29, 64])\n",
      "scaleddpa out: torch.Size([16, 8, 29, 64]) torch.Size([16, 8, 29, 29])\n",
      "scaleddpa torch.Size([16, 8, 29, 64]) torch.Size([16, 8, 29, 64]) torch.Size([16, 8, 29, 64])\n",
      "scaleddpa out: torch.Size([16, 8, 29, 64]) torch.Size([16, 8, 29, 29])\n",
      "scaleddpa torch.Size([16, 8, 33, 64]) torch.Size([16, 8, 33, 64]) torch.Size([16, 8, 33, 64])\n",
      "scaleddpa out: torch.Size([16, 8, 33, 64]) torch.Size([16, 8, 33, 33])\n",
      "scaleddpa torch.Size([16, 8, 33, 64]) torch.Size([16, 8, 29, 64]) torch.Size([16, 8, 29, 64])\n",
      "scaleddpa out: torch.Size([16, 8, 33, 64]) torch.Size([16, 8, 33, 29])\n",
      "scaleddpa torch.Size([16, 8, 33, 64]) torch.Size([16, 8, 33, 64]) torch.Size([16, 8, 33, 64])\n",
      "scaleddpa out: torch.Size([16, 8, 33, 64]) torch.Size([16, 8, 33, 33])\n",
      "scaleddpa torch.Size([16, 8, 33, 64]) torch.Size([16, 8, 29, 64]) torch.Size([16, 8, 29, 64])\n",
      "scaleddpa out: torch.Size([16, 8, 33, 64]) torch.Size([16, 8, 33, 29])\n",
      "scaleddpa torch.Size([16, 8, 33, 64]) torch.Size([16, 8, 33, 64]) torch.Size([16, 8, 33, 64])\n",
      "scaleddpa out: torch.Size([16, 8, 33, 64]) torch.Size([16, 8, 33, 33])\n",
      "scaleddpa torch.Size([16, 8, 33, 64]) torch.Size([16, 8, 29, 64]) torch.Size([16, 8, 29, 64])\n",
      "scaleddpa out: torch.Size([16, 8, 33, 64]) torch.Size([16, 8, 33, 29])\n",
      "scaleddpa torch.Size([16, 8, 33, 64]) torch.Size([16, 8, 33, 64]) torch.Size([16, 8, 33, 64])\n",
      "scaleddpa out: torch.Size([16, 8, 33, 64]) torch.Size([16, 8, 33, 33])\n",
      "scaleddpa torch.Size([16, 8, 33, 64]) torch.Size([16, 8, 29, 64]) torch.Size([16, 8, 29, 64])\n",
      "scaleddpa out: torch.Size([16, 8, 33, 64]) torch.Size([16, 8, 33, 29])\n",
      "scaleddpa torch.Size([16, 8, 33, 64]) torch.Size([16, 8, 33, 64]) torch.Size([16, 8, 33, 64])\n",
      "scaleddpa out: torch.Size([16, 8, 33, 64]) torch.Size([16, 8, 33, 33])\n",
      "scaleddpa torch.Size([16, 8, 33, 64]) torch.Size([16, 8, 29, 64]) torch.Size([16, 8, 29, 64])\n",
      "scaleddpa out: torch.Size([16, 8, 33, 64]) torch.Size([16, 8, 33, 29])\n",
      "scaleddpa torch.Size([16, 8, 33, 64]) torch.Size([16, 8, 33, 64]) torch.Size([16, 8, 33, 64])\n",
      "scaleddpa out: torch.Size([16, 8, 33, 64]) torch.Size([16, 8, 33, 33])\n",
      "scaleddpa torch.Size([16, 8, 33, 64]) torch.Size([16, 8, 29, 64]) torch.Size([16, 8, 29, 64])\n",
      "scaleddpa out: torch.Size([16, 8, 33, 64]) torch.Size([16, 8, 33, 29])\n",
      "scaleddpa torch.Size([16, 8, 21, 64]) torch.Size([16, 8, 21, 64]) torch.Size([16, 8, 21, 64])\n",
      "scaleddpa out: torch.Size([16, 8, 21, 64]) torch.Size([16, 8, 21, 21])\n",
      "scaleddpa torch.Size([16, 8, 21, 64]) torch.Size([16, 8, 21, 64]) torch.Size([16, 8, 21, 64])\n",
      "scaleddpa out: torch.Size([16, 8, 21, 64]) torch.Size([16, 8, 21, 21])\n",
      "scaleddpa torch.Size([16, 8, 21, 64]) torch.Size([16, 8, 21, 64]) torch.Size([16, 8, 21, 64])\n",
      "scaleddpa out: torch.Size([16, 8, 21, 64]) torch.Size([16, 8, 21, 21])\n",
      "scaleddpa torch.Size([16, 8, 21, 64]) torch.Size([16, 8, 21, 64]) torch.Size([16, 8, 21, 64])\n",
      "scaleddpa out: torch.Size([16, 8, 21, 64]) torch.Size([16, 8, 21, 21])\n",
      "scaleddpa torch.Size([16, 8, 21, 64]) torch.Size([16, 8, 21, 64]) torch.Size([16, 8, 21, 64])\n",
      "scaleddpa out: torch.Size([16, 8, 21, 64]) torch.Size([16, 8, 21, 21])\n",
      "scaleddpa torch.Size([16, 8, 21, 64]) torch.Size([16, 8, 21, 64]) torch.Size([16, 8, 21, 64])\n",
      "scaleddpa out: torch.Size([16, 8, 21, 64]) torch.Size([16, 8, 21, 21])\n",
      "scaleddpa torch.Size([16, 8, 19, 64]) torch.Size([16, 8, 19, 64]) torch.Size([16, 8, 19, 64])\n",
      "scaleddpa out: torch.Size([16, 8, 19, 64]) torch.Size([16, 8, 19, 19])\n",
      "scaleddpa torch.Size([16, 8, 19, 64]) torch.Size([16, 8, 21, 64]) torch.Size([16, 8, 21, 64])\n",
      "scaleddpa out: torch.Size([16, 8, 19, 64]) torch.Size([16, 8, 19, 21])\n",
      "scaleddpa torch.Size([16, 8, 19, 64]) torch.Size([16, 8, 19, 64]) torch.Size([16, 8, 19, 64])\n",
      "scaleddpa out: torch.Size([16, 8, 19, 64]) torch.Size([16, 8, 19, 19])\n",
      "scaleddpa torch.Size([16, 8, 19, 64]) torch.Size([16, 8, 21, 64]) torch.Size([16, 8, 21, 64])\n",
      "scaleddpa out: torch.Size([16, 8, 19, 64]) torch.Size([16, 8, 19, 21])\n",
      "scaleddpa torch.Size([16, 8, 19, 64]) torch.Size([16, 8, 19, 64]) torch.Size([16, 8, 19, 64])\n",
      "scaleddpa out: torch.Size([16, 8, 19, 64]) torch.Size([16, 8, 19, 19])\n",
      "scaleddpa torch.Size([16, 8, 19, 64]) torch.Size([16, 8, 21, 64]) torch.Size([16, 8, 21, 64])\n",
      "scaleddpa out: torch.Size([16, 8, 19, 64]) torch.Size([16, 8, 19, 21])\n",
      "scaleddpa torch.Size([16, 8, 19, 64]) torch.Size([16, 8, 19, 64]) torch.Size([16, 8, 19, 64])\n",
      "scaleddpa out: torch.Size([16, 8, 19, 64]) torch.Size([16, 8, 19, 19])\n",
      "scaleddpa torch.Size([16, 8, 19, 64]) torch.Size([16, 8, 21, 64]) torch.Size([16, 8, 21, 64])\n",
      "scaleddpa out: torch.Size([16, 8, 19, 64]) torch.Size([16, 8, 19, 21])\n",
      "scaleddpa torch.Size([16, 8, 19, 64]) torch.Size([16, 8, 19, 64]) torch.Size([16, 8, 19, 64])\n",
      "scaleddpa out: torch.Size([16, 8, 19, 64]) torch.Size([16, 8, 19, 19])\n",
      "scaleddpa torch.Size([16, 8, 19, 64]) torch.Size([16, 8, 21, 64]) torch.Size([16, 8, 21, 64])\n",
      "scaleddpa out: torch.Size([16, 8, 19, 64]) torch.Size([16, 8, 19, 21])\n",
      "scaleddpa torch.Size([16, 8, 19, 64]) torch.Size([16, 8, 19, 64]) torch.Size([16, 8, 19, 64])\n",
      "scaleddpa out: torch.Size([16, 8, 19, 64]) torch.Size([16, 8, 19, 19])\n",
      "scaleddpa torch.Size([16, 8, 19, 64]) torch.Size([16, 8, 21, 64]) torch.Size([16, 8, 21, 64])\n",
      "scaleddpa out: torch.Size([16, 8, 19, 64]) torch.Size([16, 8, 19, 21])\n",
      "scaleddpa torch.Size([16, 8, 21, 64]) torch.Size([16, 8, 21, 64]) torch.Size([16, 8, 21, 64])\n"
     ]
    },
    {
     "name": "stderr",
     "output_type": "stream",
     "text": [
      "                                                                                                                       "
     ]
    },
    {
     "name": "stdout",
     "output_type": "stream",
     "text": [
      "scaleddpa out: torch.Size([16, 8, 21, 64]) torch.Size([16, 8, 21, 21])\n",
      "scaleddpa torch.Size([16, 8, 21, 64]) torch.Size([16, 8, 21, 64]) torch.Size([16, 8, 21, 64])\n",
      "scaleddpa out: torch.Size([16, 8, 21, 64]) torch.Size([16, 8, 21, 21])\n",
      "scaleddpa torch.Size([16, 8, 21, 64]) torch.Size([16, 8, 21, 64]) torch.Size([16, 8, 21, 64])\n",
      "scaleddpa out: torch.Size([16, 8, 21, 64]) torch.Size([16, 8, 21, 21])\n"
     ]
    },
    {
     "name": "stderr",
     "output_type": "stream",
     "text": [
      "\r"
     ]
    },
    {
     "ename": "KeyboardInterrupt",
     "evalue": "",
     "output_type": "error",
     "traceback": [
      "\u001b[1;31m---------------------------------------------------------------------------\u001b[0m",
      "\u001b[1;31mKeyboardInterrupt\u001b[0m                         Traceback (most recent call last)",
      "\u001b[1;32m<ipython-input-1-68121988ac6a>\u001b[0m in \u001b[0;36m<module>\u001b[1;34m\u001b[0m\n\u001b[0;32m      4\u001b[0m             \u001b[1;34m'-proj_share_weight'\u001b[0m\u001b[1;33m,\u001b[0m \u001b[1;34m'-label_smoothing'\u001b[0m\u001b[1;33m,\u001b[0m \u001b[1;34m'-save_model'\u001b[0m\u001b[1;33m,\u001b[0m \u001b[1;34m'trained'\u001b[0m\u001b[1;33m,\u001b[0m\u001b[1;33m\u001b[0m\u001b[1;33m\u001b[0m\u001b[0m\n\u001b[0;32m      5\u001b[0m             '-b', '16', '-warmup', '128000', '-epoch', '2']\n\u001b[1;32m----> 6\u001b[1;33m \u001b[0mtrain_main\u001b[0m\u001b[1;33m(\u001b[0m\u001b[1;33m)\u001b[0m\u001b[1;33m\u001b[0m\u001b[1;33m\u001b[0m\u001b[0m\n\u001b[0m",
      "\u001b[1;32mM:\\MyFiles\\Classes\\2020 Spring\\cs690\\project\\janossy_lstm_attention\\train.py\u001b[0m in \u001b[0;36mmain\u001b[1;34m()\u001b[0m\n\u001b[0;32m    270\u001b[0m         2.0, opt.d_model, opt.n_warmup_steps)\n\u001b[0;32m    271\u001b[0m \u001b[1;33m\u001b[0m\u001b[0m\n\u001b[1;32m--> 272\u001b[1;33m     \u001b[0mtrain\u001b[0m\u001b[1;33m(\u001b[0m\u001b[0mtransformer\u001b[0m\u001b[1;33m,\u001b[0m \u001b[0mtraining_data\u001b[0m\u001b[1;33m,\u001b[0m \u001b[0mvalidation_data\u001b[0m\u001b[1;33m,\u001b[0m \u001b[0moptimizer\u001b[0m\u001b[1;33m,\u001b[0m \u001b[0mdevice\u001b[0m\u001b[1;33m,\u001b[0m \u001b[0mopt\u001b[0m\u001b[1;33m)\u001b[0m\u001b[1;33m\u001b[0m\u001b[1;33m\u001b[0m\u001b[0m\n\u001b[0m\u001b[0;32m    273\u001b[0m \u001b[1;33m\u001b[0m\u001b[0m\n\u001b[0;32m    274\u001b[0m \u001b[1;33m\u001b[0m\u001b[0m\n",
      "\u001b[1;32mM:\\MyFiles\\Classes\\2020 Spring\\cs690\\project\\janossy_lstm_attention\\train.py\u001b[0m in \u001b[0;36mtrain\u001b[1;34m(model, training_data, validation_data, optimizer, device, opt)\u001b[0m\n\u001b[0;32m    157\u001b[0m         \u001b[0mstart\u001b[0m \u001b[1;33m=\u001b[0m \u001b[0mtime\u001b[0m\u001b[1;33m.\u001b[0m\u001b[0mtime\u001b[0m\u001b[1;33m(\u001b[0m\u001b[1;33m)\u001b[0m\u001b[1;33m\u001b[0m\u001b[1;33m\u001b[0m\u001b[0m\n\u001b[0;32m    158\u001b[0m         train_loss, train_accu = train_epoch(\n\u001b[1;32m--> 159\u001b[1;33m             model, training_data, optimizer, opt, device, smoothing=opt.label_smoothing)\n\u001b[0m\u001b[0;32m    160\u001b[0m         \u001b[0mprint_performances\u001b[0m\u001b[1;33m(\u001b[0m\u001b[1;34m'Training'\u001b[0m\u001b[1;33m,\u001b[0m \u001b[0mtrain_loss\u001b[0m\u001b[1;33m,\u001b[0m \u001b[0mtrain_accu\u001b[0m\u001b[1;33m,\u001b[0m \u001b[0mstart\u001b[0m\u001b[1;33m)\u001b[0m\u001b[1;33m\u001b[0m\u001b[1;33m\u001b[0m\u001b[0m\n\u001b[0;32m    161\u001b[0m \u001b[1;33m\u001b[0m\u001b[0m\n",
      "\u001b[1;32mM:\\MyFiles\\Classes\\2020 Spring\\cs690\\project\\janossy_lstm_attention\\train.py\u001b[0m in \u001b[0;36mtrain_epoch\u001b[1;34m(model, training_data, optimizer, opt, device, smoothing)\u001b[0m\n\u001b[0;32m     81\u001b[0m         \u001b[1;31m# forward\u001b[0m\u001b[1;33m\u001b[0m\u001b[1;33m\u001b[0m\u001b[1;33m\u001b[0m\u001b[0m\n\u001b[0;32m     82\u001b[0m         \u001b[0moptimizer\u001b[0m\u001b[1;33m.\u001b[0m\u001b[0mzero_grad\u001b[0m\u001b[1;33m(\u001b[0m\u001b[1;33m)\u001b[0m\u001b[1;33m\u001b[0m\u001b[1;33m\u001b[0m\u001b[0m\n\u001b[1;32m---> 83\u001b[1;33m         \u001b[0mpred\u001b[0m \u001b[1;33m=\u001b[0m \u001b[0mmodel\u001b[0m\u001b[1;33m(\u001b[0m\u001b[0msrc_seq\u001b[0m\u001b[1;33m,\u001b[0m \u001b[0mtrg_seq\u001b[0m\u001b[1;33m)\u001b[0m\u001b[1;33m\u001b[0m\u001b[1;33m\u001b[0m\u001b[0m\n\u001b[0m\u001b[0;32m     84\u001b[0m \u001b[1;33m\u001b[0m\u001b[0m\n\u001b[0;32m     85\u001b[0m         \u001b[1;31m# backward and update parameters\u001b[0m\u001b[1;33m\u001b[0m\u001b[1;33m\u001b[0m\u001b[1;33m\u001b[0m\u001b[0m\n",
      "\u001b[1;32mM:\\Users\\Master\\Anaconda3\\lib\\site-packages\\torch\\nn\\modules\\module.py\u001b[0m in \u001b[0;36m__call__\u001b[1;34m(self, *input, **kwargs)\u001b[0m\n\u001b[0;32m    530\u001b[0m             \u001b[0mresult\u001b[0m \u001b[1;33m=\u001b[0m \u001b[0mself\u001b[0m\u001b[1;33m.\u001b[0m\u001b[0m_slow_forward\u001b[0m\u001b[1;33m(\u001b[0m\u001b[1;33m*\u001b[0m\u001b[0minput\u001b[0m\u001b[1;33m,\u001b[0m \u001b[1;33m**\u001b[0m\u001b[0mkwargs\u001b[0m\u001b[1;33m)\u001b[0m\u001b[1;33m\u001b[0m\u001b[1;33m\u001b[0m\u001b[0m\n\u001b[0;32m    531\u001b[0m         \u001b[1;32melse\u001b[0m\u001b[1;33m:\u001b[0m\u001b[1;33m\u001b[0m\u001b[1;33m\u001b[0m\u001b[0m\n\u001b[1;32m--> 532\u001b[1;33m             \u001b[0mresult\u001b[0m \u001b[1;33m=\u001b[0m \u001b[0mself\u001b[0m\u001b[1;33m.\u001b[0m\u001b[0mforward\u001b[0m\u001b[1;33m(\u001b[0m\u001b[1;33m*\u001b[0m\u001b[0minput\u001b[0m\u001b[1;33m,\u001b[0m \u001b[1;33m**\u001b[0m\u001b[0mkwargs\u001b[0m\u001b[1;33m)\u001b[0m\u001b[1;33m\u001b[0m\u001b[1;33m\u001b[0m\u001b[0m\n\u001b[0m\u001b[0;32m    533\u001b[0m         \u001b[1;32mfor\u001b[0m \u001b[0mhook\u001b[0m \u001b[1;32min\u001b[0m \u001b[0mself\u001b[0m\u001b[1;33m.\u001b[0m\u001b[0m_forward_hooks\u001b[0m\u001b[1;33m.\u001b[0m\u001b[0mvalues\u001b[0m\u001b[1;33m(\u001b[0m\u001b[1;33m)\u001b[0m\u001b[1;33m:\u001b[0m\u001b[1;33m\u001b[0m\u001b[1;33m\u001b[0m\u001b[0m\n\u001b[0;32m    534\u001b[0m             \u001b[0mhook_result\u001b[0m \u001b[1;33m=\u001b[0m \u001b[0mhook\u001b[0m\u001b[1;33m(\u001b[0m\u001b[0mself\u001b[0m\u001b[1;33m,\u001b[0m \u001b[0minput\u001b[0m\u001b[1;33m,\u001b[0m \u001b[0mresult\u001b[0m\u001b[1;33m)\u001b[0m\u001b[1;33m\u001b[0m\u001b[1;33m\u001b[0m\u001b[0m\n",
      "\u001b[1;32mM:\\MyFiles\\Classes\\2020 Spring\\cs690\\project\\janossy_lstm_attention\\transformer.py\u001b[0m in \u001b[0;36mforward\u001b[1;34m(self, src_seq, trg_seq)\u001b[0m\n\u001b[0;32m    340\u001b[0m         \u001b[0mtrg_mask\u001b[0m \u001b[1;33m=\u001b[0m \u001b[0mget_pad_mask\u001b[0m\u001b[1;33m(\u001b[0m\u001b[0mtrg_seq\u001b[0m\u001b[1;33m,\u001b[0m \u001b[0mself\u001b[0m\u001b[1;33m.\u001b[0m\u001b[0mtrg_pad_idx\u001b[0m\u001b[1;33m)\u001b[0m \u001b[1;33m&\u001b[0m \u001b[0mget_subsequent_mask\u001b[0m\u001b[1;33m(\u001b[0m\u001b[0mtrg_seq\u001b[0m\u001b[1;33m)\u001b[0m\u001b[1;33m\u001b[0m\u001b[1;33m\u001b[0m\u001b[0m\n\u001b[0;32m    341\u001b[0m \u001b[1;33m\u001b[0m\u001b[0m\n\u001b[1;32m--> 342\u001b[1;33m         \u001b[0menc_output\u001b[0m\u001b[1;33m,\u001b[0m \u001b[1;33m*\u001b[0m\u001b[0m_\u001b[0m \u001b[1;33m=\u001b[0m \u001b[0mself\u001b[0m\u001b[1;33m.\u001b[0m\u001b[0mencoder\u001b[0m\u001b[1;33m(\u001b[0m\u001b[0msrc_seq\u001b[0m\u001b[1;33m,\u001b[0m \u001b[0msrc_mask\u001b[0m\u001b[1;33m)\u001b[0m\u001b[1;33m\u001b[0m\u001b[1;33m\u001b[0m\u001b[0m\n\u001b[0m\u001b[0;32m    343\u001b[0m         \u001b[0mdec_output\u001b[0m\u001b[1;33m,\u001b[0m \u001b[1;33m*\u001b[0m\u001b[0m_\u001b[0m \u001b[1;33m=\u001b[0m \u001b[0mself\u001b[0m\u001b[1;33m.\u001b[0m\u001b[0mdecoder\u001b[0m\u001b[1;33m(\u001b[0m\u001b[0mtrg_seq\u001b[0m\u001b[1;33m,\u001b[0m \u001b[0mtrg_mask\u001b[0m\u001b[1;33m,\u001b[0m \u001b[0menc_output\u001b[0m\u001b[1;33m,\u001b[0m \u001b[0msrc_mask\u001b[0m\u001b[1;33m)\u001b[0m\u001b[1;33m\u001b[0m\u001b[1;33m\u001b[0m\u001b[0m\n\u001b[0;32m    344\u001b[0m         \u001b[0mseq_logit\u001b[0m \u001b[1;33m=\u001b[0m \u001b[0mself\u001b[0m\u001b[1;33m.\u001b[0m\u001b[0mtrg_word_prj\u001b[0m\u001b[1;33m(\u001b[0m\u001b[0mdec_output\u001b[0m\u001b[1;33m)\u001b[0m \u001b[1;33m*\u001b[0m \u001b[0mself\u001b[0m\u001b[1;33m.\u001b[0m\u001b[0mx_logit_scale\u001b[0m\u001b[1;33m\u001b[0m\u001b[1;33m\u001b[0m\u001b[0m\n",
      "\u001b[1;32mM:\\Users\\Master\\Anaconda3\\lib\\site-packages\\torch\\nn\\modules\\module.py\u001b[0m in \u001b[0;36m__call__\u001b[1;34m(self, *input, **kwargs)\u001b[0m\n\u001b[0;32m    530\u001b[0m             \u001b[0mresult\u001b[0m \u001b[1;33m=\u001b[0m \u001b[0mself\u001b[0m\u001b[1;33m.\u001b[0m\u001b[0m_slow_forward\u001b[0m\u001b[1;33m(\u001b[0m\u001b[1;33m*\u001b[0m\u001b[0minput\u001b[0m\u001b[1;33m,\u001b[0m \u001b[1;33m**\u001b[0m\u001b[0mkwargs\u001b[0m\u001b[1;33m)\u001b[0m\u001b[1;33m\u001b[0m\u001b[1;33m\u001b[0m\u001b[0m\n\u001b[0;32m    531\u001b[0m         \u001b[1;32melse\u001b[0m\u001b[1;33m:\u001b[0m\u001b[1;33m\u001b[0m\u001b[1;33m\u001b[0m\u001b[0m\n\u001b[1;32m--> 532\u001b[1;33m             \u001b[0mresult\u001b[0m \u001b[1;33m=\u001b[0m \u001b[0mself\u001b[0m\u001b[1;33m.\u001b[0m\u001b[0mforward\u001b[0m\u001b[1;33m(\u001b[0m\u001b[1;33m*\u001b[0m\u001b[0minput\u001b[0m\u001b[1;33m,\u001b[0m \u001b[1;33m**\u001b[0m\u001b[0mkwargs\u001b[0m\u001b[1;33m)\u001b[0m\u001b[1;33m\u001b[0m\u001b[1;33m\u001b[0m\u001b[0m\n\u001b[0m\u001b[0;32m    533\u001b[0m         \u001b[1;32mfor\u001b[0m \u001b[0mhook\u001b[0m \u001b[1;32min\u001b[0m \u001b[0mself\u001b[0m\u001b[1;33m.\u001b[0m\u001b[0m_forward_hooks\u001b[0m\u001b[1;33m.\u001b[0m\u001b[0mvalues\u001b[0m\u001b[1;33m(\u001b[0m\u001b[1;33m)\u001b[0m\u001b[1;33m:\u001b[0m\u001b[1;33m\u001b[0m\u001b[1;33m\u001b[0m\u001b[0m\n\u001b[0;32m    534\u001b[0m             \u001b[0mhook_result\u001b[0m \u001b[1;33m=\u001b[0m \u001b[0mhook\u001b[0m\u001b[1;33m(\u001b[0m\u001b[0mself\u001b[0m\u001b[1;33m,\u001b[0m \u001b[0minput\u001b[0m\u001b[1;33m,\u001b[0m \u001b[0mresult\u001b[0m\u001b[1;33m)\u001b[0m\u001b[1;33m\u001b[0m\u001b[1;33m\u001b[0m\u001b[0m\n",
      "\u001b[1;32mM:\\MyFiles\\Classes\\2020 Spring\\cs690\\project\\janossy_lstm_attention\\transformer.py\u001b[0m in \u001b[0;36mforward\u001b[1;34m(self, src_seq, src_mask, return_attns)\u001b[0m\n\u001b[0;32m    243\u001b[0m \u001b[1;33m\u001b[0m\u001b[0m\n\u001b[0;32m    244\u001b[0m         \u001b[1;32mfor\u001b[0m \u001b[0menc_layer\u001b[0m \u001b[1;32min\u001b[0m \u001b[0mself\u001b[0m\u001b[1;33m.\u001b[0m\u001b[0mlayer_stack\u001b[0m\u001b[1;33m:\u001b[0m\u001b[1;33m\u001b[0m\u001b[1;33m\u001b[0m\u001b[0m\n\u001b[1;32m--> 245\u001b[1;33m             \u001b[0menc_output\u001b[0m\u001b[1;33m,\u001b[0m \u001b[0menc_slf_attn\u001b[0m \u001b[1;33m=\u001b[0m \u001b[0menc_layer\u001b[0m\u001b[1;33m(\u001b[0m\u001b[0menc_output\u001b[0m\u001b[1;33m,\u001b[0m \u001b[0mslf_attn_mask\u001b[0m\u001b[1;33m=\u001b[0m\u001b[0msrc_mask\u001b[0m\u001b[1;33m)\u001b[0m\u001b[1;33m\u001b[0m\u001b[1;33m\u001b[0m\u001b[0m\n\u001b[0m\u001b[0;32m    246\u001b[0m             \u001b[0menc_slf_attn_list\u001b[0m \u001b[1;33m+=\u001b[0m \u001b[1;33m[\u001b[0m\u001b[0menc_slf_attn\u001b[0m\u001b[1;33m]\u001b[0m \u001b[1;32mif\u001b[0m \u001b[0mreturn_attns\u001b[0m \u001b[1;32melse\u001b[0m \u001b[1;33m[\u001b[0m\u001b[1;33m]\u001b[0m\u001b[1;33m\u001b[0m\u001b[1;33m\u001b[0m\u001b[0m\n\u001b[0;32m    247\u001b[0m \u001b[1;33m\u001b[0m\u001b[0m\n",
      "\u001b[1;32mM:\\Users\\Master\\Anaconda3\\lib\\site-packages\\torch\\nn\\modules\\module.py\u001b[0m in \u001b[0;36m__call__\u001b[1;34m(self, *input, **kwargs)\u001b[0m\n\u001b[0;32m    530\u001b[0m             \u001b[0mresult\u001b[0m \u001b[1;33m=\u001b[0m \u001b[0mself\u001b[0m\u001b[1;33m.\u001b[0m\u001b[0m_slow_forward\u001b[0m\u001b[1;33m(\u001b[0m\u001b[1;33m*\u001b[0m\u001b[0minput\u001b[0m\u001b[1;33m,\u001b[0m \u001b[1;33m**\u001b[0m\u001b[0mkwargs\u001b[0m\u001b[1;33m)\u001b[0m\u001b[1;33m\u001b[0m\u001b[1;33m\u001b[0m\u001b[0m\n\u001b[0;32m    531\u001b[0m         \u001b[1;32melse\u001b[0m\u001b[1;33m:\u001b[0m\u001b[1;33m\u001b[0m\u001b[1;33m\u001b[0m\u001b[0m\n\u001b[1;32m--> 532\u001b[1;33m             \u001b[0mresult\u001b[0m \u001b[1;33m=\u001b[0m \u001b[0mself\u001b[0m\u001b[1;33m.\u001b[0m\u001b[0mforward\u001b[0m\u001b[1;33m(\u001b[0m\u001b[1;33m*\u001b[0m\u001b[0minput\u001b[0m\u001b[1;33m,\u001b[0m \u001b[1;33m**\u001b[0m\u001b[0mkwargs\u001b[0m\u001b[1;33m)\u001b[0m\u001b[1;33m\u001b[0m\u001b[1;33m\u001b[0m\u001b[0m\n\u001b[0m\u001b[0;32m    533\u001b[0m         \u001b[1;32mfor\u001b[0m \u001b[0mhook\u001b[0m \u001b[1;32min\u001b[0m \u001b[0mself\u001b[0m\u001b[1;33m.\u001b[0m\u001b[0m_forward_hooks\u001b[0m\u001b[1;33m.\u001b[0m\u001b[0mvalues\u001b[0m\u001b[1;33m(\u001b[0m\u001b[1;33m)\u001b[0m\u001b[1;33m:\u001b[0m\u001b[1;33m\u001b[0m\u001b[1;33m\u001b[0m\u001b[0m\n\u001b[0;32m    534\u001b[0m             \u001b[0mhook_result\u001b[0m \u001b[1;33m=\u001b[0m \u001b[0mhook\u001b[0m\u001b[1;33m(\u001b[0m\u001b[0mself\u001b[0m\u001b[1;33m,\u001b[0m \u001b[0minput\u001b[0m\u001b[1;33m,\u001b[0m \u001b[0mresult\u001b[0m\u001b[1;33m)\u001b[0m\u001b[1;33m\u001b[0m\u001b[1;33m\u001b[0m\u001b[0m\n",
      "\u001b[1;32mM:\\MyFiles\\Classes\\2020 Spring\\cs690\\project\\janossy_lstm_attention\\transformer.py\u001b[0m in \u001b[0;36mforward\u001b[1;34m(self, enc_input, slf_attn_mask)\u001b[0m\n\u001b[0;32m    147\u001b[0m         enc_output, enc_slf_attn = self.slf_attn(\n\u001b[0;32m    148\u001b[0m             enc_input, enc_input, enc_input, mask=slf_attn_mask)\n\u001b[1;32m--> 149\u001b[1;33m         \u001b[0menc_output\u001b[0m \u001b[1;33m=\u001b[0m \u001b[0mself\u001b[0m\u001b[1;33m.\u001b[0m\u001b[0mpos_ffn\u001b[0m\u001b[1;33m(\u001b[0m\u001b[0menc_output\u001b[0m\u001b[1;33m)\u001b[0m\u001b[1;33m\u001b[0m\u001b[1;33m\u001b[0m\u001b[0m\n\u001b[0m\u001b[0;32m    150\u001b[0m         \u001b[1;32mreturn\u001b[0m \u001b[0menc_output\u001b[0m\u001b[1;33m,\u001b[0m \u001b[0menc_slf_attn\u001b[0m\u001b[1;33m\u001b[0m\u001b[1;33m\u001b[0m\u001b[0m\n\u001b[0;32m    151\u001b[0m \u001b[1;33m\u001b[0m\u001b[0m\n",
      "\u001b[1;32mM:\\Users\\Master\\Anaconda3\\lib\\site-packages\\torch\\nn\\modules\\module.py\u001b[0m in \u001b[0;36m__call__\u001b[1;34m(self, *input, **kwargs)\u001b[0m\n\u001b[0;32m    530\u001b[0m             \u001b[0mresult\u001b[0m \u001b[1;33m=\u001b[0m \u001b[0mself\u001b[0m\u001b[1;33m.\u001b[0m\u001b[0m_slow_forward\u001b[0m\u001b[1;33m(\u001b[0m\u001b[1;33m*\u001b[0m\u001b[0minput\u001b[0m\u001b[1;33m,\u001b[0m \u001b[1;33m**\u001b[0m\u001b[0mkwargs\u001b[0m\u001b[1;33m)\u001b[0m\u001b[1;33m\u001b[0m\u001b[1;33m\u001b[0m\u001b[0m\n\u001b[0;32m    531\u001b[0m         \u001b[1;32melse\u001b[0m\u001b[1;33m:\u001b[0m\u001b[1;33m\u001b[0m\u001b[1;33m\u001b[0m\u001b[0m\n\u001b[1;32m--> 532\u001b[1;33m             \u001b[0mresult\u001b[0m \u001b[1;33m=\u001b[0m \u001b[0mself\u001b[0m\u001b[1;33m.\u001b[0m\u001b[0mforward\u001b[0m\u001b[1;33m(\u001b[0m\u001b[1;33m*\u001b[0m\u001b[0minput\u001b[0m\u001b[1;33m,\u001b[0m \u001b[1;33m**\u001b[0m\u001b[0mkwargs\u001b[0m\u001b[1;33m)\u001b[0m\u001b[1;33m\u001b[0m\u001b[1;33m\u001b[0m\u001b[0m\n\u001b[0m\u001b[0;32m    533\u001b[0m         \u001b[1;32mfor\u001b[0m \u001b[0mhook\u001b[0m \u001b[1;32min\u001b[0m \u001b[0mself\u001b[0m\u001b[1;33m.\u001b[0m\u001b[0m_forward_hooks\u001b[0m\u001b[1;33m.\u001b[0m\u001b[0mvalues\u001b[0m\u001b[1;33m(\u001b[0m\u001b[1;33m)\u001b[0m\u001b[1;33m:\u001b[0m\u001b[1;33m\u001b[0m\u001b[1;33m\u001b[0m\u001b[0m\n\u001b[0;32m    534\u001b[0m             \u001b[0mhook_result\u001b[0m \u001b[1;33m=\u001b[0m \u001b[0mhook\u001b[0m\u001b[1;33m(\u001b[0m\u001b[0mself\u001b[0m\u001b[1;33m,\u001b[0m \u001b[0minput\u001b[0m\u001b[1;33m,\u001b[0m \u001b[0mresult\u001b[0m\u001b[1;33m)\u001b[0m\u001b[1;33m\u001b[0m\u001b[1;33m\u001b[0m\u001b[0m\n",
      "\u001b[1;32mM:\\MyFiles\\Classes\\2020 Spring\\cs690\\project\\janossy_lstm_attention\\transformer.py\u001b[0m in \u001b[0;36mforward\u001b[1;34m(self, x)\u001b[0m\n\u001b[0;32m    120\u001b[0m         \u001b[0mx\u001b[0m \u001b[1;33m=\u001b[0m \u001b[0mself\u001b[0m\u001b[1;33m.\u001b[0m\u001b[0mlayer_norm\u001b[0m\u001b[1;33m(\u001b[0m\u001b[0mx\u001b[0m\u001b[1;33m)\u001b[0m\u001b[1;33m\u001b[0m\u001b[1;33m\u001b[0m\u001b[0m\n\u001b[0;32m    121\u001b[0m \u001b[1;33m\u001b[0m\u001b[0m\n\u001b[1;32m--> 122\u001b[1;33m         \u001b[0mx\u001b[0m \u001b[1;33m=\u001b[0m \u001b[0mself\u001b[0m\u001b[1;33m.\u001b[0m\u001b[0mw_2\u001b[0m\u001b[1;33m(\u001b[0m\u001b[0mF\u001b[0m\u001b[1;33m.\u001b[0m\u001b[0mrelu\u001b[0m\u001b[1;33m(\u001b[0m\u001b[0mself\u001b[0m\u001b[1;33m.\u001b[0m\u001b[0mw_1\u001b[0m\u001b[1;33m(\u001b[0m\u001b[0mx\u001b[0m\u001b[1;33m)\u001b[0m\u001b[1;33m)\u001b[0m\u001b[1;33m)\u001b[0m\u001b[1;33m\u001b[0m\u001b[1;33m\u001b[0m\u001b[0m\n\u001b[0m\u001b[0;32m    123\u001b[0m         \u001b[0mx\u001b[0m \u001b[1;33m=\u001b[0m \u001b[0mself\u001b[0m\u001b[1;33m.\u001b[0m\u001b[0mdropout\u001b[0m\u001b[1;33m(\u001b[0m\u001b[0mx\u001b[0m\u001b[1;33m)\u001b[0m\u001b[1;33m\u001b[0m\u001b[1;33m\u001b[0m\u001b[0m\n\u001b[0;32m    124\u001b[0m         \u001b[0mx\u001b[0m \u001b[1;33m+=\u001b[0m \u001b[0mresidual\u001b[0m\u001b[1;33m\u001b[0m\u001b[1;33m\u001b[0m\u001b[0m\n",
      "\u001b[1;32mM:\\Users\\Master\\Anaconda3\\lib\\site-packages\\torch\\nn\\modules\\module.py\u001b[0m in \u001b[0;36m__call__\u001b[1;34m(self, *input, **kwargs)\u001b[0m\n\u001b[0;32m    530\u001b[0m             \u001b[0mresult\u001b[0m \u001b[1;33m=\u001b[0m \u001b[0mself\u001b[0m\u001b[1;33m.\u001b[0m\u001b[0m_slow_forward\u001b[0m\u001b[1;33m(\u001b[0m\u001b[1;33m*\u001b[0m\u001b[0minput\u001b[0m\u001b[1;33m,\u001b[0m \u001b[1;33m**\u001b[0m\u001b[0mkwargs\u001b[0m\u001b[1;33m)\u001b[0m\u001b[1;33m\u001b[0m\u001b[1;33m\u001b[0m\u001b[0m\n\u001b[0;32m    531\u001b[0m         \u001b[1;32melse\u001b[0m\u001b[1;33m:\u001b[0m\u001b[1;33m\u001b[0m\u001b[1;33m\u001b[0m\u001b[0m\n\u001b[1;32m--> 532\u001b[1;33m             \u001b[0mresult\u001b[0m \u001b[1;33m=\u001b[0m \u001b[0mself\u001b[0m\u001b[1;33m.\u001b[0m\u001b[0mforward\u001b[0m\u001b[1;33m(\u001b[0m\u001b[1;33m*\u001b[0m\u001b[0minput\u001b[0m\u001b[1;33m,\u001b[0m \u001b[1;33m**\u001b[0m\u001b[0mkwargs\u001b[0m\u001b[1;33m)\u001b[0m\u001b[1;33m\u001b[0m\u001b[1;33m\u001b[0m\u001b[0m\n\u001b[0m\u001b[0;32m    533\u001b[0m         \u001b[1;32mfor\u001b[0m \u001b[0mhook\u001b[0m \u001b[1;32min\u001b[0m \u001b[0mself\u001b[0m\u001b[1;33m.\u001b[0m\u001b[0m_forward_hooks\u001b[0m\u001b[1;33m.\u001b[0m\u001b[0mvalues\u001b[0m\u001b[1;33m(\u001b[0m\u001b[1;33m)\u001b[0m\u001b[1;33m:\u001b[0m\u001b[1;33m\u001b[0m\u001b[1;33m\u001b[0m\u001b[0m\n\u001b[0;32m    534\u001b[0m             \u001b[0mhook_result\u001b[0m \u001b[1;33m=\u001b[0m \u001b[0mhook\u001b[0m\u001b[1;33m(\u001b[0m\u001b[0mself\u001b[0m\u001b[1;33m,\u001b[0m \u001b[0minput\u001b[0m\u001b[1;33m,\u001b[0m \u001b[0mresult\u001b[0m\u001b[1;33m)\u001b[0m\u001b[1;33m\u001b[0m\u001b[1;33m\u001b[0m\u001b[0m\n",
      "\u001b[1;32mM:\\Users\\Master\\Anaconda3\\lib\\site-packages\\torch\\nn\\modules\\linear.py\u001b[0m in \u001b[0;36mforward\u001b[1;34m(self, input)\u001b[0m\n\u001b[0;32m     85\u001b[0m \u001b[1;33m\u001b[0m\u001b[0m\n\u001b[0;32m     86\u001b[0m     \u001b[1;32mdef\u001b[0m \u001b[0mforward\u001b[0m\u001b[1;33m(\u001b[0m\u001b[0mself\u001b[0m\u001b[1;33m,\u001b[0m \u001b[0minput\u001b[0m\u001b[1;33m)\u001b[0m\u001b[1;33m:\u001b[0m\u001b[1;33m\u001b[0m\u001b[1;33m\u001b[0m\u001b[0m\n\u001b[1;32m---> 87\u001b[1;33m         \u001b[1;32mreturn\u001b[0m \u001b[0mF\u001b[0m\u001b[1;33m.\u001b[0m\u001b[0mlinear\u001b[0m\u001b[1;33m(\u001b[0m\u001b[0minput\u001b[0m\u001b[1;33m,\u001b[0m \u001b[0mself\u001b[0m\u001b[1;33m.\u001b[0m\u001b[0mweight\u001b[0m\u001b[1;33m,\u001b[0m \u001b[0mself\u001b[0m\u001b[1;33m.\u001b[0m\u001b[0mbias\u001b[0m\u001b[1;33m)\u001b[0m\u001b[1;33m\u001b[0m\u001b[1;33m\u001b[0m\u001b[0m\n\u001b[0m\u001b[0;32m     88\u001b[0m \u001b[1;33m\u001b[0m\u001b[0m\n\u001b[0;32m     89\u001b[0m     \u001b[1;32mdef\u001b[0m \u001b[0mextra_repr\u001b[0m\u001b[1;33m(\u001b[0m\u001b[0mself\u001b[0m\u001b[1;33m)\u001b[0m\u001b[1;33m:\u001b[0m\u001b[1;33m\u001b[0m\u001b[1;33m\u001b[0m\u001b[0m\n",
      "\u001b[1;32mM:\\Users\\Master\\Anaconda3\\lib\\site-packages\\torch\\nn\\functional.py\u001b[0m in \u001b[0;36mlinear\u001b[1;34m(input, weight, bias)\u001b[0m\n\u001b[0;32m   1370\u001b[0m         \u001b[0mret\u001b[0m \u001b[1;33m=\u001b[0m \u001b[0mtorch\u001b[0m\u001b[1;33m.\u001b[0m\u001b[0maddmm\u001b[0m\u001b[1;33m(\u001b[0m\u001b[0mbias\u001b[0m\u001b[1;33m,\u001b[0m \u001b[0minput\u001b[0m\u001b[1;33m,\u001b[0m \u001b[0mweight\u001b[0m\u001b[1;33m.\u001b[0m\u001b[0mt\u001b[0m\u001b[1;33m(\u001b[0m\u001b[1;33m)\u001b[0m\u001b[1;33m)\u001b[0m\u001b[1;33m\u001b[0m\u001b[1;33m\u001b[0m\u001b[0m\n\u001b[0;32m   1371\u001b[0m     \u001b[1;32melse\u001b[0m\u001b[1;33m:\u001b[0m\u001b[1;33m\u001b[0m\u001b[1;33m\u001b[0m\u001b[0m\n\u001b[1;32m-> 1372\u001b[1;33m         \u001b[0moutput\u001b[0m \u001b[1;33m=\u001b[0m \u001b[0minput\u001b[0m\u001b[1;33m.\u001b[0m\u001b[0mmatmul\u001b[0m\u001b[1;33m(\u001b[0m\u001b[0mweight\u001b[0m\u001b[1;33m.\u001b[0m\u001b[0mt\u001b[0m\u001b[1;33m(\u001b[0m\u001b[1;33m)\u001b[0m\u001b[1;33m)\u001b[0m\u001b[1;33m\u001b[0m\u001b[1;33m\u001b[0m\u001b[0m\n\u001b[0m\u001b[0;32m   1373\u001b[0m         \u001b[1;32mif\u001b[0m \u001b[0mbias\u001b[0m \u001b[1;32mis\u001b[0m \u001b[1;32mnot\u001b[0m \u001b[1;32mNone\u001b[0m\u001b[1;33m:\u001b[0m\u001b[1;33m\u001b[0m\u001b[1;33m\u001b[0m\u001b[0m\n\u001b[0;32m   1374\u001b[0m             \u001b[0moutput\u001b[0m \u001b[1;33m+=\u001b[0m \u001b[0mbias\u001b[0m\u001b[1;33m\u001b[0m\u001b[1;33m\u001b[0m\u001b[0m\n",
      "\u001b[1;31mKeyboardInterrupt\u001b[0m: "
     ]
    }
   ],
   "source": [
    "import sys\n",
    "from train import main as train_main\n",
    "sys.argv = ['train.py', '-data_pkl', 'm30k_deen_shr.pkl', '-embs_share_weight', \n",
    "            '-proj_share_weight', '-label_smoothing', '-save_model', 'trained', \n",
    "            '-b', '16', '-warmup', '128000', '-epoch', '2']\n",
    "train_main()"
   ]
  }
 ],
 "metadata": {
  "kernelspec": {
   "display_name": "Python 3",
   "language": "python",
   "name": "python3"
  },
  "language_info": {
   "codemirror_mode": {
    "name": "ipython",
    "version": 3
   },
   "file_extension": ".py",
   "mimetype": "text/x-python",
   "name": "python",
   "nbconvert_exporter": "python",
   "pygments_lexer": "ipython3",
   "version": "3.7.1"
  }
 },
 "nbformat": 4,
 "nbformat_minor": 4
}
